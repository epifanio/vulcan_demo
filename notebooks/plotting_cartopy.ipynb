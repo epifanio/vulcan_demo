{
 "cells": [
  {
   "cell_type": "code",
   "execution_count": null,
   "metadata": {},
   "outputs": [],
   "source": [
    "import time\n",
    "from datetime import datetime\n",
    "from thredds_crawler.crawl import Crawl\n",
    "from dask.diagnostics import ProgressBar\n",
    "import xarray as xr"
   ]
  },
  {
   "cell_type": "code",
   "execution_count": null,
   "metadata": {},
   "outputs": [],
   "source": [
    "def get_datasource_ref(\n",
    "    url=\"https://thredds.met.no/thredds/catalog/metusers/heikok/ash/krisuvik/catalog.html\",\n",
    "    regex=\".*eemep_hourInst*\",\n",
    "):\n",
    "    results = {}\n",
    "    c = Crawl(url, select=[regex])\n",
    "    for i in c.datasets:\n",
    "        dates, times = i.name.split(\"_\")[-1].replace(\".nc\", \"\").split(\"T\")\n",
    "        datetime_object = datetime.strptime(f\"{dates} {times}\", \"%Y%m%d %H%M%S\")\n",
    "        results[datetime_object] = {}\n",
    "        for j in i.services:\n",
    "            if j[\"service\"] == \"OPENDAP\":\n",
    "                results[datetime_object][\"url\"] = j[\"url\"]\n",
    "    return results"
   ]
  },
  {
   "cell_type": "code",
   "execution_count": null,
   "metadata": {},
   "outputs": [],
   "source": [
    "catalog_datasources = get_datasource_ref()\n",
    "catalog_datasources"
   ]
  },
  {
   "cell_type": "code",
   "execution_count": null,
   "metadata": {},
   "outputs": [],
   "source": [
    "latest_cached_index = max(list(catalog_datasources.keys()))\n",
    "nc_url = catalog_datasources[latest_cached_index][\"url\"]\n",
    "latest_cached_index, nc_url"
   ]
  },
  {
   "cell_type": "code",
   "execution_count": null,
   "metadata": {},
   "outputs": [],
   "source": [
    "eemep = xr.open_dataset(nc_url, chunks={\"time\": 48})"
   ]
  },
  {
   "cell_type": "code",
   "execution_count": null,
   "metadata": {},
   "outputs": [],
   "source": [
    "mask = eemep[\"COLUMN_ASH_kmax\"][:].where(eemep.COLUMN_ASH_kmax >= 200000)"
   ]
  },
  {
   "cell_type": "code",
   "execution_count": null,
   "metadata": {},
   "outputs": [],
   "source": [
    "with ProgressBar():\n",
    "    mask = mask.compute()"
   ]
  },
  {
   "cell_type": "code",
   "execution_count": null,
   "metadata": {},
   "outputs": [],
   "source": [
    "# coarsen the dataset for quick testing of plot options\n",
    "#mask = mask.coarsen(lon=3, boundary='pad').mean().coarsen(lat=3, boundary=\"trim\").mean()"
   ]
  },
  {
   "cell_type": "code",
   "execution_count": null,
   "metadata": {},
   "outputs": [],
   "source": [
    "mask"
   ]
  },
  {
   "cell_type": "code",
   "execution_count": null,
   "metadata": {},
   "outputs": [],
   "source": [
    "import xarray as xr\n",
    "import sys\n",
    "import numpy as np\n",
    "import matplotlib.pyplot as plt\n",
    "import cartopy.crs as crs\n",
    "import cartopy.feature as cfeature\n",
    "from cartopy.mpl.gridliner import LONGITUDE_FORMATTER, LATITUDE_FORMATTER\n",
    "import warnings \n",
    "\n",
    "warnings.filterwarnings('ignore', '.*tight_layout*',)\n",
    "warnings.filterwarnings('ignore', '.*GEBCO_LATEST*',)\n",
    "\n",
    "#data = data_array[\"COLUMN_ASH_kmax\"][:].where(data_array.COLUMN_ASH_kmax >= 200000)\n",
    "\n",
    "\"\"\" Plotting routines\n",
    "        the following routines require a rewriting, \n",
    "        TODO: \n",
    "            add logging\n",
    "            expose more parameters as options\n",
    "            building a proper command line argument parsing        \n",
    "\"\"\"\n",
    "\n",
    "\n",
    "def simpler_plot(val, bbox, output):\n",
    "    # create figure\n",
    "    fig = plt.figure(figsize=(8, 6), dpi=100)\n",
    "    ax = plt.axes(projection=crs.PlateCarree())\n",
    "    ax.add_feature(cfeature.BORDERS, linestyle=':')\n",
    "    ax.stock_img()\n",
    "    ax.imshow(\n",
    "        val,\n",
    "        extent=(bbox),\n",
    "    )\n",
    "    plt.savefig(output)\n",
    "    plt.close(fig)\n",
    "    plt.close('all')\n",
    "\n",
    "\n",
    "def get_time_image(data, output=None, dpi=60):\n",
    "    fig = plt.figure(figsize=(12, 6))\n",
    "    ax = plt.axes(projection=crs.PlateCarree())\n",
    "    ax.stock_img()\n",
    "    # ax.add_feature(cfeature.COASTLINE)\n",
    "    ax.add_feature(cfeature.BORDERS, linestyle=':')\n",
    "    ax.add_wms(\n",
    "        wms='https://www.gebco.net/data_and_products/gebco_web_services/web_map_service/mapserv?request=getcapabilities&service=wms&version=1.3.0',\n",
    "        layers=['GEBCO_LATEST_2'])\n",
    "    gl = ax.gridlines(crs=crs.PlateCarree(), draw_labels=True,\n",
    "                      linewidth=1, color='gray', alpha=0.3, linestyle='--')\n",
    "    gl.top_labels = False\n",
    "    gl.right_labels = False\n",
    "    gl.left_labels = True\n",
    "    gl.bottom_labels = True\n",
    "    gl.xformatter = LONGITUDE_FORMATTER\n",
    "    gl.yformatter = LATITUDE_FORMATTER\n",
    "    gl.ylabel_style = {'size': 11, 'color': 'black'}\n",
    "    gl.xlabel_style = {'size': 11, 'color': 'black'}\n",
    "    ax.set_extent([-26, 32, 40, 80], crs=crs.PlateCarree())\n",
    "    # ax.set_extent([3, 32, 54, 80], crs=crs.PlateCarree())\n",
    "    # ax.set_aspect('equal', 'box')\n",
    "    # data.plot(cmap=False) # (cmap=plt.cm.RdBu_r) #dir(plt.cm)\n",
    "    im = data.plot.pcolormesh(add_colorbar=False, robust=True)\n",
    "    # plt.pcolor(X, Y, f(data), cmap=cm, vmin=-4, vmax=4)\n",
    "    cb = plt.colorbar(im, orientation=\"vertical\", pad=0.05)\n",
    "    cb.set_label(label=f\"{data.attrs['long_name'].replace('_', ' ')} [$\\mu g/m^{2}$]\", size='large', weight='bold')\n",
    "    # cb.set_label(label=f\"{data.attrs['long_name'].replace('_', ' ')} [ug/m2]\", size='large', weight='bold')\n",
    "    cb.ax.tick_params(labelsize='large')\n",
    "    plt.xlabel(\"Longitude\")\n",
    "    plt.xlabel(\"Latitude\")\n",
    "    if output:\n",
    "        plt.savefig(output, dpi=dpi)\n",
    "    else:\n",
    "        plt.show()\n",
    "    plt.close(fig)\n",
    "    plt.close('all')\n",
    "\n",
    "\n",
    "def get_time_sequence_image(data, output=None, dpi=60):\n",
    "    map_proj = crs.PlateCarree()\n",
    "    fig = plt.figure()\n",
    "    p = data.plot(transform=crs.PlateCarree(),\n",
    "                  robust=True,\n",
    "                  col='time', col_wrap=3,  # multiplot settings\n",
    "                  aspect=data.lon.shape[0] / data.lat.shape[0],  # for a sensible figsize\n",
    "                  subplot_kws={'projection': map_proj})  # the plot's projection\n",
    "\n",
    "    # bottom_idx is based on the subplot arrangements and the number of time-slice\n",
    "    bottom_idx = [9, 10, 11]\n",
    "\n",
    "    # We have to set the map's options on all four axes\n",
    "    for i, ax in enumerate(p.axes.flat):\n",
    "        ax.stock_img()\n",
    "        ax.coastlines()\n",
    "        ax.add_feature(cfeature.COASTLINE)\n",
    "        ax.add_feature(cfeature.BORDERS, linestyle=':')\n",
    "        gl = ax.gridlines(crs=crs.PlateCarree(), draw_labels=True,\n",
    "                          linewidth=1, color='gray', alpha=0.3, linestyle='--')\n",
    "        # the following are deprecated in newer cartopy\n",
    "        # gl.xlabels_top = False\n",
    "        # gl.ylabels_right = False\n",
    "        # gl.ylabels_left = True\n",
    "        # if i not in bottom_idx:\n",
    "        #     gl.xlabels_bottom = False\n",
    "        # else:\n",
    "        #     gl.xlabels_bottom = True\n",
    "        #\n",
    "        gl.top_labels = False\n",
    "        gl.right_labels = False\n",
    "        gl.left_labels = True\n",
    "        if i not in bottom_idx:\n",
    "            gl.bottom_labels = False\n",
    "        else:\n",
    "            gl.bottom_labels = True\n",
    "        #\n",
    "        gl.xformatter = LONGITUDE_FORMATTER\n",
    "        gl.yformatter = LATITUDE_FORMATTER\n",
    "        gl.ylabel_style = {'size': 11, 'color': 'black'}\n",
    "        gl.xlabel_style = {'size': 11, 'color': 'black'}\n",
    "        ax.set_extent([-26, 32, 40, 80])\n",
    "        ax.set_aspect('equal', 'box')\n",
    "\n",
    "    if output:\n",
    "        plt.savefig(output, dpi=dpi)\n",
    "    else:\n",
    "        plt.show()\n",
    "    plt.close(fig)\n",
    "    plt.close('all')"
   ]
  },
  {
   "cell_type": "code",
   "execution_count": null,
   "metadata": {},
   "outputs": [],
   "source": [
    "get_time_image(mask[1])"
   ]
  },
  {
   "cell_type": "code",
   "execution_count": null,
   "metadata": {},
   "outputs": [],
   "source": [
    "image_pages = [[0, 12], [12, 24], [24, 36], [36, 48]]\n",
    "for slice in image_pages:\n",
    "    get_time_sequence_image(mask[slice[0]:slice[1]])"
   ]
  },
  {
   "cell_type": "code",
   "execution_count": null,
   "metadata": {},
   "outputs": [],
   "source": []
  }
 ],
 "metadata": {
  "kernelspec": {
   "display_name": "Python 3",
   "language": "python",
   "name": "python3"
  },
  "language_info": {
   "codemirror_mode": {
    "name": "ipython",
    "version": 3
   },
   "file_extension": ".py",
   "mimetype": "text/x-python",
   "name": "python",
   "nbconvert_exporter": "python",
   "pygments_lexer": "ipython3",
   "version": "3.8.5"
  }
 },
 "nbformat": 4,
 "nbformat_minor": 4
}
